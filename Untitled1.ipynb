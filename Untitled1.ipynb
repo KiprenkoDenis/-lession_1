{
  "nbformat": 4,
  "nbformat_minor": 0,
  "metadata": {
    "colab": {
      "provenance": [],
      "authorship_tag": "ABX9TyNoe8RDOeaOGMzUX5/Zo/NR",
      "include_colab_link": true
    },
    "kernelspec": {
      "name": "python3",
      "display_name": "Python 3"
    },
    "language_info": {
      "name": "python"
    }
  },
  "cells": [
    {
      "cell_type": "markdown",
      "metadata": {
        "id": "view-in-github",
        "colab_type": "text"
      },
      "source": [
        "<a href=\"https://colab.research.google.com/github/KiprenkoDenis/-lession_1/blob/main/Untitled1.ipynb\" target=\"_parent\"><img src=\"https://colab.research.google.com/assets/colab-badge.svg\" alt=\"Open In Colab\"/></a>"
      ]
    },
    {
      "cell_type": "code",
      "execution_count": 1,
      "metadata": {
        "id": "1CQfQtuehwL8"
      },
      "outputs": [],
      "source": [
        "import pandas as pd"
      ]
    },
    {
      "cell_type": "code",
      "source": [
        "import random\n",
        "\n",
        "lst = ['robot'] * 10\n",
        "lst += ['human'] * 10\n",
        "random.shuffle(lst)\n",
        "data = pd.DataFrame({'whoAmI': lst})\n",
        "print(data.head())"
      ],
      "metadata": {
        "colab": {
          "base_uri": "https://localhost:8080/"
        },
        "id": "WGAxYWjNi-c8",
        "outputId": "523be7fa-19eb-47e1-b6fb-b06bd0cc03a0"
      },
      "execution_count": 4,
      "outputs": [
        {
          "output_type": "stream",
          "name": "stdout",
          "text": [
            "  whoAmI\n",
            "0  human\n",
            "1  robot\n",
            "2  human\n",
            "3  robot\n",
            "4  robot\n"
          ]
        }
      ]
    },
    {
      "cell_type": "code",
      "source": [
        "one_hot_encoded = pd.get_dummies(data, columns=['whoAmI'], prefix=['whoAmI'])"
      ],
      "metadata": {
        "id": "keTl1lsKnY-G"
      },
      "execution_count": 6,
      "outputs": []
    },
    {
      "cell_type": "code",
      "source": [
        "print(one_hot_encoded)"
      ],
      "metadata": {
        "colab": {
          "base_uri": "https://localhost:8080/"
        },
        "id": "Y3dkiiv4qYF9",
        "outputId": "ecc6102e-bdf1-4e67-b2b1-ad77c35e5460"
      },
      "execution_count": 7,
      "outputs": [
        {
          "output_type": "stream",
          "name": "stdout",
          "text": [
            "    whoAmI_human  whoAmI_robot\n",
            "0              1             0\n",
            "1              0             1\n",
            "2              1             0\n",
            "3              0             1\n",
            "4              0             1\n",
            "5              1             0\n",
            "6              0             1\n",
            "7              1             0\n",
            "8              0             1\n",
            "9              1             0\n",
            "10             1             0\n",
            "11             0             1\n",
            "12             1             0\n",
            "13             0             1\n",
            "14             1             0\n",
            "15             1             0\n",
            "16             1             0\n",
            "17             0             1\n",
            "18             0             1\n",
            "19             0             1\n"
          ]
        }
      ]
    }
  ]
}